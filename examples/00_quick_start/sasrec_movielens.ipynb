{
 "cells": [
  {
   "cell_type": "markdown",
   "metadata": {},
   "source": [
    "<i>Copyright (c) Recommenders contributors.</i>\n",
    "\n",
    "<i>Licensed under the MIT License.</i>"
   ]
  },
  {
   "cell_type": "markdown",
   "metadata": {},
   "source": [
    "# SASRec \n",
    "\n",
    "Self-Attentive Sequential Recommendation (SASRec) [1], is a sequential recommendation system model that uses self-attention mechanisms to capture the sequential patterns in user-item interactions. It is designed to predict the next item a user is likely to interact with based on their previous interactions."
   ]
  },
  {
   "cell_type": "code",
   "execution_count": 1,
   "metadata": {},
   "outputs": [
    {
     "name": "stdout",
     "output_type": "stream",
     "text": [
      "System version: 3.11.9 (main, Apr 19 2024, 16:48:06) [GCC 11.2.0]\n",
      "Pandas version: 2.2.2\n",
      "PyTorch version: 2.3.1+cu121\n"
     ]
    }
   ],
   "source": [
    "import os\n",
    "import sys\n",
    "import torch\n",
    "import pandas as pd\n",
    "\n",
    "from recommenders.datasets import movielens\n",
    "from recommenders.datasets.pandas_df_utils import filter_k_interactions\n",
    "from recommenders.datasets.python_splitters import python_leave_one_out_split\n",
    "from recommenders.models.unirec.data.dataset.movielens_utils import merge_category\n",
    "from recommenders.models.unirec.model.sequential.sasrec import SASRec\n",
    "\n",
    "\n",
    "print(f\"System version: {sys.version}\")\n",
    "print(f\"Pandas version: {pd.__version__}\")\n",
    "print(f\"PyTorch version: {torch.__version__}\")"
   ]
  },
  {
   "cell_type": "code",
   "execution_count": 2,
   "metadata": {},
   "outputs": [],
   "source": [
    "# top k items to recommend\n",
    "TOP_K = 10\n",
    "\n",
    "# Select MovieLens data size: 100k, 1m, 10m, or 20m\n",
    "MOVIELENS_DATA_SIZE = \"100k\"\n",
    "\n",
    "USER_COL = \"userId\"\n",
    "ITEM_COL = \"movieId\"\n",
    "ITEM_SEQ_COL = \"item_seq\"\n",
    "RATING_COL = \"rating\"\n",
    "TIMESTAMP_COL = \"timestamp\"\n",
    "GENRE_COL = \"genre\"\n",
    "CATEGORY_COL = \"cateId\"\n",
    "\n",
    "OUTPATH = \".\"\n",
    "FULL_USER_HISTORY_PATH = os.path.join(OUTPATH, \"full_user_history.csv\")\n",
    "USER_HISTORY_PATH = os.path.join(OUTPATH, \"user_history.csv\")\n",
    "TRAIN_PATH = os.path.join(OUTPATH, \"train.csv\")\n",
    "VALID_PATH = os.path.join(OUTPATH, \"valid.csv\")\n",
    "TEST_PATH = os.path.join(OUTPATH, \"test.csv\")\n"
   ]
  },
  {
   "cell_type": "code",
   "execution_count": 3,
   "metadata": {},
   "outputs": [
    {
     "data": {
      "text/html": [
       "<div>\n",
       "<style scoped>\n",
       "    .dataframe tbody tr th:only-of-type {\n",
       "        vertical-align: middle;\n",
       "    }\n",
       "\n",
       "    .dataframe tbody tr th {\n",
       "        vertical-align: top;\n",
       "    }\n",
       "\n",
       "    .dataframe thead th {\n",
       "        text-align: right;\n",
       "    }\n",
       "</style>\n",
       "<table border=\"1\" class=\"dataframe\">\n",
       "  <thead>\n",
       "    <tr style=\"text-align: right;\">\n",
       "      <th></th>\n",
       "      <th>userId</th>\n",
       "      <th>movieId</th>\n",
       "      <th>rating</th>\n",
       "      <th>timestamp</th>\n",
       "      <th>genre</th>\n",
       "    </tr>\n",
       "  </thead>\n",
       "  <tbody>\n",
       "    <tr>\n",
       "      <th>0</th>\n",
       "      <td>196</td>\n",
       "      <td>242</td>\n",
       "      <td>3.0</td>\n",
       "      <td>881250949</td>\n",
       "      <td>Comedy</td>\n",
       "    </tr>\n",
       "    <tr>\n",
       "      <th>1</th>\n",
       "      <td>186</td>\n",
       "      <td>302</td>\n",
       "      <td>3.0</td>\n",
       "      <td>891717742</td>\n",
       "      <td>Crime|Film-Noir|Mystery|Thriller</td>\n",
       "    </tr>\n",
       "    <tr>\n",
       "      <th>2</th>\n",
       "      <td>22</td>\n",
       "      <td>377</td>\n",
       "      <td>1.0</td>\n",
       "      <td>878887116</td>\n",
       "      <td>Children's|Comedy</td>\n",
       "    </tr>\n",
       "    <tr>\n",
       "      <th>3</th>\n",
       "      <td>244</td>\n",
       "      <td>51</td>\n",
       "      <td>2.0</td>\n",
       "      <td>880606923</td>\n",
       "      <td>Drama|Romance|War|Western</td>\n",
       "    </tr>\n",
       "    <tr>\n",
       "      <th>4</th>\n",
       "      <td>166</td>\n",
       "      <td>346</td>\n",
       "      <td>1.0</td>\n",
       "      <td>886397596</td>\n",
       "      <td>Crime|Drama</td>\n",
       "    </tr>\n",
       "  </tbody>\n",
       "</table>\n",
       "</div>"
      ],
      "text/plain": [
       "   userId  movieId  rating  timestamp                             genre\n",
       "0     196      242     3.0  881250949                            Comedy\n",
       "1     186      302     3.0  891717742  Crime|Film-Noir|Mystery|Thriller\n",
       "2      22      377     1.0  878887116                 Children's|Comedy\n",
       "3     244       51     2.0  880606923         Drama|Romance|War|Western\n",
       "4     166      346     1.0  886397596                       Crime|Drama"
      ]
     },
     "execution_count": 3,
     "metadata": {},
     "output_type": "execute_result"
    }
   ],
   "source": [
    "df = movielens.load_pandas_df(\n",
    "    size=MOVIELENS_DATA_SIZE,\n",
    "    header=[USER_COL, ITEM_COL, RATING_COL, TIMESTAMP_COL],\n",
    "    genres_col=GENRE_COL,\n",
    "    local_cache_path=OUTPATH,\n",
    ")\n",
    "df.head(5)"
   ]
  },
  {
   "cell_type": "code",
   "execution_count": 4,
   "metadata": {},
   "outputs": [
    {
     "name": "stdout",
     "output_type": "stream",
     "text": [
      "(1682, 2)\n"
     ]
    },
    {
     "data": {
      "text/html": [
       "<div>\n",
       "<style scoped>\n",
       "    .dataframe tbody tr th:only-of-type {\n",
       "        vertical-align: middle;\n",
       "    }\n",
       "\n",
       "    .dataframe tbody tr th {\n",
       "        vertical-align: top;\n",
       "    }\n",
       "\n",
       "    .dataframe thead th {\n",
       "        text-align: right;\n",
       "    }\n",
       "</style>\n",
       "<table border=\"1\" class=\"dataframe\">\n",
       "  <thead>\n",
       "    <tr style=\"text-align: right;\">\n",
       "      <th></th>\n",
       "      <th>movieId</th>\n",
       "      <th>genre</th>\n",
       "    </tr>\n",
       "  </thead>\n",
       "  <tbody>\n",
       "    <tr>\n",
       "      <th>0</th>\n",
       "      <td>242</td>\n",
       "      <td>Comedy</td>\n",
       "    </tr>\n",
       "    <tr>\n",
       "      <th>1</th>\n",
       "      <td>302</td>\n",
       "      <td>Crime|Film-Noir|Mystery|Thriller</td>\n",
       "    </tr>\n",
       "    <tr>\n",
       "      <th>2</th>\n",
       "      <td>377</td>\n",
       "      <td>Children's|Comedy</td>\n",
       "    </tr>\n",
       "    <tr>\n",
       "      <th>3</th>\n",
       "      <td>51</td>\n",
       "      <td>Drama|Romance|War|Western</td>\n",
       "    </tr>\n",
       "    <tr>\n",
       "      <th>4</th>\n",
       "      <td>346</td>\n",
       "      <td>Crime|Drama</td>\n",
       "    </tr>\n",
       "  </tbody>\n",
       "</table>\n",
       "</div>"
      ],
      "text/plain": [
       "   movieId                             genre\n",
       "0      242                            Comedy\n",
       "1      302  Crime|Film-Noir|Mystery|Thriller\n",
       "2      377                 Children's|Comedy\n",
       "3       51         Drama|Romance|War|Western\n",
       "4      346                       Crime|Drama"
      ]
     },
     "execution_count": 4,
     "metadata": {},
     "output_type": "execute_result"
    }
   ],
   "source": [
    "cate_df = df[[ITEM_COL, GENRE_COL]].drop_duplicates()\n",
    "print(cate_df.shape)\n",
    "cate_df.head(5)"
   ]
  },
  {
   "cell_type": "code",
   "execution_count": 5,
   "metadata": {},
   "outputs": [
    {
     "name": "stdout",
     "output_type": "stream",
     "text": [
      "Genre to ID Mapping: {'Adventure': 1, 'Thriller': 2, 'Romance': 3, 'Horror': 4, 'Mystery': 5, \"Children's\": 6, 'Animation': 7, 'Musical': 8, 'War': 9, 'Crime': 10, 'Comedy': 11, 'unknown': 12, 'Sci-Fi': 13, 'Film-Noir': 14, 'Fantasy': 15, 'Western': 16, 'Drama': 17, 'Documentary': 18, 'Action': 19}\n",
      "Number of unique genres: 19\n"
     ]
    },
    {
     "data": {
      "text/html": [
       "<div>\n",
       "<style scoped>\n",
       "    .dataframe tbody tr th:only-of-type {\n",
       "        vertical-align: middle;\n",
       "    }\n",
       "\n",
       "    .dataframe tbody tr th {\n",
       "        vertical-align: top;\n",
       "    }\n",
       "\n",
       "    .dataframe thead th {\n",
       "        text-align: right;\n",
       "    }\n",
       "</style>\n",
       "<table border=\"1\" class=\"dataframe\">\n",
       "  <thead>\n",
       "    <tr style=\"text-align: right;\">\n",
       "      <th></th>\n",
       "      <th>movieId</th>\n",
       "      <th>cateId</th>\n",
       "    </tr>\n",
       "  </thead>\n",
       "  <tbody>\n",
       "    <tr>\n",
       "      <th>0</th>\n",
       "      <td>242</td>\n",
       "      <td>[11]</td>\n",
       "    </tr>\n",
       "    <tr>\n",
       "      <th>1</th>\n",
       "      <td>302</td>\n",
       "      <td>[10, 14, 5, 2]</td>\n",
       "    </tr>\n",
       "    <tr>\n",
       "      <th>2</th>\n",
       "      <td>377</td>\n",
       "      <td>[6, 11]</td>\n",
       "    </tr>\n",
       "    <tr>\n",
       "      <th>3</th>\n",
       "      <td>51</td>\n",
       "      <td>[17, 3, 9, 16]</td>\n",
       "    </tr>\n",
       "    <tr>\n",
       "      <th>4</th>\n",
       "      <td>346</td>\n",
       "      <td>[10, 17]</td>\n",
       "    </tr>\n",
       "  </tbody>\n",
       "</table>\n",
       "</div>"
      ],
      "text/plain": [
       "   movieId          cateId\n",
       "0      242            [11]\n",
       "1      302  [10, 14, 5, 2]\n",
       "2      377         [6, 11]\n",
       "3       51  [17, 3, 9, 16]\n",
       "4      346        [10, 17]"
      ]
     },
     "execution_count": 5,
     "metadata": {},
     "output_type": "execute_result"
    }
   ],
   "source": [
    "# Extract all unique genres from the data\n",
    "all_genres = set(genre for genre_string in cate_df[GENRE_COL] for genre in genre_string.split(\"|\"))\n",
    "\n",
    "# Create a mapping from genre to ID (1-based index)\n",
    "genre_to_id = {genre: idx + 1 for idx, genre in enumerate(all_genres)}\n",
    "\n",
    "# Map genres to IDs using the dynamic mapping\n",
    "cate_df[CATEGORY_COL] = cate_df[GENRE_COL].apply(\n",
    "    lambda x: [genre_to_id[genre] for genre in x.split(\"|\") if genre in genre_to_id]\n",
    ")\n",
    "\n",
    "print(\"Genre to ID Mapping:\", {genre: id for genre, id in genre_to_id.items()})\n",
    "print(\"Number of unique genres:\", len(all_genres))\n",
    "cate_df.drop(columns=[GENRE_COL], inplace=True)\n",
    "cate_df.head(5)"
   ]
  },
  {
   "cell_type": "code",
   "execution_count": 6,
   "metadata": {},
   "outputs": [
    {
     "name": "stderr",
     "output_type": "stream",
     "text": [
      "get cate2items: 100000it [00:00, 1771011.40it/s]\n",
      "get item2cate: 100000it [00:00, 1933393.57it/s]"
     ]
    },
    {
     "name": "stdout",
     "output_type": "stream",
     "text": [
      "New genre to ID Mapping: {11: 1, 10: 2, 5: 3, 2: 4, 6: 5, 17: 6, 3: 7, 9: 8, 13: 9, 19: 10, 1: 11, 8: 12, 4: 13, 14: 14, 16: 14, 18: 14, 7: 14, 15: 14, 12: 14}\n",
      "Number of unique genres: 14\n"
     ]
    },
    {
     "name": "stderr",
     "output_type": "stream",
     "text": [
      "\n"
     ]
    },
    {
     "data": {
      "text/html": [
       "<div>\n",
       "<style scoped>\n",
       "    .dataframe tbody tr th:only-of-type {\n",
       "        vertical-align: middle;\n",
       "    }\n",
       "\n",
       "    .dataframe tbody tr th {\n",
       "        vertical-align: top;\n",
       "    }\n",
       "\n",
       "    .dataframe thead th {\n",
       "        text-align: right;\n",
       "    }\n",
       "</style>\n",
       "<table border=\"1\" class=\"dataframe\">\n",
       "  <thead>\n",
       "    <tr style=\"text-align: right;\">\n",
       "      <th></th>\n",
       "      <th>userId</th>\n",
       "      <th>movieId</th>\n",
       "      <th>rating</th>\n",
       "      <th>timestamp</th>\n",
       "      <th>cateId</th>\n",
       "    </tr>\n",
       "  </thead>\n",
       "  <tbody>\n",
       "    <tr>\n",
       "      <th>0</th>\n",
       "      <td>196</td>\n",
       "      <td>242</td>\n",
       "      <td>3.0</td>\n",
       "      <td>881250949</td>\n",
       "      <td>[11]</td>\n",
       "    </tr>\n",
       "    <tr>\n",
       "      <th>1</th>\n",
       "      <td>186</td>\n",
       "      <td>302</td>\n",
       "      <td>3.0</td>\n",
       "      <td>891717742</td>\n",
       "      <td>[10, 14, 5, 2]</td>\n",
       "    </tr>\n",
       "    <tr>\n",
       "      <th>2</th>\n",
       "      <td>22</td>\n",
       "      <td>377</td>\n",
       "      <td>1.0</td>\n",
       "      <td>878887116</td>\n",
       "      <td>[6, 11]</td>\n",
       "    </tr>\n",
       "    <tr>\n",
       "      <th>3</th>\n",
       "      <td>244</td>\n",
       "      <td>51</td>\n",
       "      <td>2.0</td>\n",
       "      <td>880606923</td>\n",
       "      <td>[17, 3, 9, 16]</td>\n",
       "    </tr>\n",
       "    <tr>\n",
       "      <th>4</th>\n",
       "      <td>166</td>\n",
       "      <td>346</td>\n",
       "      <td>1.0</td>\n",
       "      <td>886397596</td>\n",
       "      <td>[10, 17]</td>\n",
       "    </tr>\n",
       "  </tbody>\n",
       "</table>\n",
       "</div>"
      ],
      "text/plain": [
       "   userId  movieId  rating  timestamp          cateId\n",
       "0     196      242     3.0  881250949            [11]\n",
       "1     186      302     3.0  891717742  [10, 14, 5, 2]\n",
       "2      22      377     1.0  878887116         [6, 11]\n",
       "3     244       51     2.0  880606923  [17, 3, 9, 16]\n",
       "4     166      346     1.0  886397596        [10, 17]"
      ]
     },
     "execution_count": 6,
     "metadata": {},
     "output_type": "execute_result"
    }
   ],
   "source": [
    "df.drop(columns=[GENRE_COL], inplace=True)\n",
    "rating_df = pd.merge(df, cate_df, how=\"inner\", on=[ITEM_COL])\n",
    "\n",
    "# Merge categories containing a small number of items (lower than min_item_in_cate) into one category, and get the new mappings\n",
    "cate2idx, item2cate, num_cates = merge_category(rating_df, min_item_in_cate=50)\n",
    "\n",
    "print(\"New genre to ID Mapping:\", {genre: id for genre, id in cate2idx.items()})\n",
    "# print(item2cate)\n",
    "print(\"Number of unique genres:\", num_cates)\n",
    "rating_df.head()"
   ]
  },
  {
   "cell_type": "code",
   "execution_count": 7,
   "metadata": {},
   "outputs": [
    {
     "name": "stdout",
     "output_type": "stream",
     "text": [
      "original dataset size: (100000, 5)\n",
      "filter by rating>=3 dataset size: (82520, 5)\n",
      "k filtered dataset size: (80393, 5)\n"
     ]
    },
    {
     "data": {
      "text/html": [
       "<div>\n",
       "<style scoped>\n",
       "    .dataframe tbody tr th:only-of-type {\n",
       "        vertical-align: middle;\n",
       "    }\n",
       "\n",
       "    .dataframe tbody tr th {\n",
       "        vertical-align: top;\n",
       "    }\n",
       "\n",
       "    .dataframe thead th {\n",
       "        text-align: right;\n",
       "    }\n",
       "</style>\n",
       "<table border=\"1\" class=\"dataframe\">\n",
       "  <thead>\n",
       "    <tr style=\"text-align: right;\">\n",
       "      <th></th>\n",
       "      <th>userId</th>\n",
       "      <th>movieId</th>\n",
       "      <th>rating</th>\n",
       "      <th>timestamp</th>\n",
       "      <th>cateId</th>\n",
       "    </tr>\n",
       "  </thead>\n",
       "  <tbody>\n",
       "    <tr>\n",
       "      <th>0</th>\n",
       "      <td>1</td>\n",
       "      <td>168</td>\n",
       "      <td>5.0</td>\n",
       "      <td>874965478</td>\n",
       "      <td>[11]</td>\n",
       "    </tr>\n",
       "    <tr>\n",
       "      <th>1</th>\n",
       "      <td>1</td>\n",
       "      <td>172</td>\n",
       "      <td>5.0</td>\n",
       "      <td>874965478</td>\n",
       "      <td>[19, 1, 17, 3, 13, 9]</td>\n",
       "    </tr>\n",
       "    <tr>\n",
       "      <th>2</th>\n",
       "      <td>1</td>\n",
       "      <td>165</td>\n",
       "      <td>5.0</td>\n",
       "      <td>874965518</td>\n",
       "      <td>[17]</td>\n",
       "    </tr>\n",
       "    <tr>\n",
       "      <th>3</th>\n",
       "      <td>1</td>\n",
       "      <td>156</td>\n",
       "      <td>4.0</td>\n",
       "      <td>874965556</td>\n",
       "      <td>[10, 2]</td>\n",
       "    </tr>\n",
       "    <tr>\n",
       "      <th>4</th>\n",
       "      <td>1</td>\n",
       "      <td>196</td>\n",
       "      <td>5.0</td>\n",
       "      <td>874965677</td>\n",
       "      <td>[17]</td>\n",
       "    </tr>\n",
       "  </tbody>\n",
       "</table>\n",
       "</div>"
      ],
      "text/plain": [
       "   userId  movieId  rating  timestamp                 cateId\n",
       "0       1      168     5.0  874965478                   [11]\n",
       "1       1      172     5.0  874965478  [19, 1, 17, 3, 13, 9]\n",
       "2       1      165     5.0  874965518                   [17]\n",
       "3       1      156     4.0  874965556                [10, 2]\n",
       "4       1      196     5.0  874965677                   [17]"
      ]
     },
     "execution_count": 7,
     "metadata": {},
     "output_type": "execute_result"
    }
   ],
   "source": [
    "# Get only positive interactions\n",
    "data = rating_df.sort_values(by=[USER_COL, TIMESTAMP_COL], ignore_index=True)\n",
    "print(\"original dataset size: {0}\".format(data.shape))\n",
    "data = data[data[\"rating\"] >= 3].reset_index(drop=True)\n",
    "data = data.drop_duplicates(subset=[USER_COL, ITEM_COL], keep=\"last\").reset_index(drop=True)\n",
    "print(\"filter by rating>=3 dataset size: {0}\".format(data.shape))\n",
    "\n",
    "# Filter out users and items with less than k interactions\n",
    "data = filter_k_interactions(data, user_k=10, item_k=10, user_col=USER_COL, item_col=ITEM_COL)\n",
    "data = data.reset_index(drop=True)\n",
    "print(\"k filtered dataset size: {0}\".format(data.shape))\n",
    "data.head()"
   ]
  },
  {
   "cell_type": "code",
   "execution_count": 8,
   "metadata": {},
   "outputs": [
    {
     "name": "stdout",
     "output_type": "stream",
     "text": [
      "Number of users: 939, Number of items: 1016, Number of categories: 14\n",
      "Size: (80393, 3)\n"
     ]
    },
    {
     "data": {
      "text/html": [
       "<div>\n",
       "<style scoped>\n",
       "    .dataframe tbody tr th:only-of-type {\n",
       "        vertical-align: middle;\n",
       "    }\n",
       "\n",
       "    .dataframe tbody tr th {\n",
       "        vertical-align: top;\n",
       "    }\n",
       "\n",
       "    .dataframe thead th {\n",
       "        text-align: right;\n",
       "    }\n",
       "</style>\n",
       "<table border=\"1\" class=\"dataframe\">\n",
       "  <thead>\n",
       "    <tr style=\"text-align: right;\">\n",
       "      <th></th>\n",
       "      <th>userId</th>\n",
       "      <th>movieId</th>\n",
       "      <th>cateId</th>\n",
       "    </tr>\n",
       "  </thead>\n",
       "  <tbody>\n",
       "    <tr>\n",
       "      <th>0</th>\n",
       "      <td>1</td>\n",
       "      <td>1</td>\n",
       "      <td>[14, 5, 1]</td>\n",
       "    </tr>\n",
       "    <tr>\n",
       "      <th>1</th>\n",
       "      <td>1</td>\n",
       "      <td>2</td>\n",
       "      <td>[10, 11, 4]</td>\n",
       "    </tr>\n",
       "    <tr>\n",
       "      <th>2</th>\n",
       "      <td>1</td>\n",
       "      <td>3</td>\n",
       "      <td>[4]</td>\n",
       "    </tr>\n",
       "    <tr>\n",
       "      <th>3</th>\n",
       "      <td>1</td>\n",
       "      <td>4</td>\n",
       "      <td>[10, 1, 6]</td>\n",
       "    </tr>\n",
       "    <tr>\n",
       "      <th>4</th>\n",
       "      <td>1</td>\n",
       "      <td>5</td>\n",
       "      <td>[2, 6, 4]</td>\n",
       "    </tr>\n",
       "  </tbody>\n",
       "</table>\n",
       "</div>"
      ],
      "text/plain": [
       "   userId  movieId       cateId\n",
       "0       1        1   [14, 5, 1]\n",
       "1       1        2  [10, 11, 4]\n",
       "2       1        3          [4]\n",
       "3       1        4   [10, 1, 6]\n",
       "4       1        5    [2, 6, 4]"
      ]
     },
     "execution_count": 8,
     "metadata": {},
     "output_type": "execute_result"
    }
   ],
   "source": [
    "# Map\n",
    "users = data[USER_COL].unique()\n",
    "items = data[ITEM_COL].unique()\n",
    "num_users, num_items = len(users), len(items)\n",
    "user_id_map = {id: i+1 for i, id in enumerate(users)}\n",
    "item_id_map = {id: i+1 for i, id in enumerate(items)}\n",
    "map_info = {\"user\": {str(k): v for k, v in user_id_map.items()}, \n",
    "            \"item\": {str(k): v for k, v in item_id_map.items()}, \n",
    "            \"cate\": {str(k): v for k, v in cate2idx.items()}}\n",
    "print(f\"Number of users: {num_users}, Number of items: {num_items}, Number of categories: {num_cates}\")\n",
    "\n",
    "data[USER_COL] = data[USER_COL].apply(lambda x: user_id_map[x])\n",
    "data[ITEM_COL] = data[ITEM_COL].apply(lambda x: item_id_map[x])\n",
    "data[CATEGORY_COL] = data[ITEM_COL].apply(lambda x: item2cate[x])\n",
    "itemid2cate = data.set_index(ITEM_COL)[CATEGORY_COL].to_dict()\n",
    "data = data[[USER_COL, ITEM_COL, CATEGORY_COL]]\n",
    "print(f\"Size: {data.shape}\")\n",
    "data.head()"
   ]
  },
  {
   "cell_type": "code",
   "execution_count": 9,
   "metadata": {},
   "outputs": [
    {
     "data": {
      "text/html": [
       "<div>\n",
       "<style scoped>\n",
       "    .dataframe tbody tr th:only-of-type {\n",
       "        vertical-align: middle;\n",
       "    }\n",
       "\n",
       "    .dataframe tbody tr th {\n",
       "        vertical-align: top;\n",
       "    }\n",
       "\n",
       "    .dataframe thead th {\n",
       "        text-align: right;\n",
       "    }\n",
       "</style>\n",
       "<table border=\"1\" class=\"dataframe\">\n",
       "  <thead>\n",
       "    <tr style=\"text-align: right;\">\n",
       "      <th></th>\n",
       "      <th>userId</th>\n",
       "      <th>item_seq</th>\n",
       "    </tr>\n",
       "  </thead>\n",
       "  <tbody>\n",
       "    <tr>\n",
       "      <th>0</th>\n",
       "      <td>1</td>\n",
       "      <td>1,2,3,4,5,6,7,8,9,10,11,12,13,14,15,16,17,18,1...</td>\n",
       "    </tr>\n",
       "    <tr>\n",
       "      <th>1</th>\n",
       "      <td>2</td>\n",
       "      <td>213,198,214,215,216,217,218,219,220,221,222,14...</td>\n",
       "    </tr>\n",
       "    <tr>\n",
       "      <th>2</th>\n",
       "      <td>3</td>\n",
       "      <td>254,106,220,255,256,257,258,259,260,261,221,21...</td>\n",
       "    </tr>\n",
       "    <tr>\n",
       "      <th>3</th>\n",
       "      <td>4</td>\n",
       "      <td>198,216,248,268,262,220,273,270,279,280,256,28...</td>\n",
       "    </tr>\n",
       "    <tr>\n",
       "      <th>4</th>\n",
       "      <td>5</td>\n",
       "      <td>197,287,34,288,289,17,9,32,290,190,13,29,291,2...</td>\n",
       "    </tr>\n",
       "  </tbody>\n",
       "</table>\n",
       "</div>"
      ],
      "text/plain": [
       "   userId                                           item_seq\n",
       "0       1  1,2,3,4,5,6,7,8,9,10,11,12,13,14,15,16,17,18,1...\n",
       "1       2  213,198,214,215,216,217,218,219,220,221,222,14...\n",
       "2       3  254,106,220,255,256,257,258,259,260,261,221,21...\n",
       "3       4  198,216,248,268,262,220,273,270,279,280,256,28...\n",
       "4       5  197,287,34,288,289,17,9,32,290,190,13,29,291,2..."
      ]
     },
     "execution_count": 9,
     "metadata": {},
     "output_type": "execute_result"
    }
   ],
   "source": [
    "\n",
    "# Generate full user item sequence\n",
    "full_user_history = data.groupby(by=USER_COL, as_index=False).agg(list).reset_index(drop=True)\n",
    "full_user_history[ITEM_SEQ_COL] = full_user_history[ITEM_COL].apply(lambda x: \",\".join(map(str,x)))\n",
    "full_user_history = full_user_history[[USER_COL, ITEM_SEQ_COL]]\n",
    "full_user_history.to_csv(FULL_USER_HISTORY_PATH, index=False, sep=\"\\t\")\n",
    "full_user_history.head()"
   ]
  },
  {
   "cell_type": "code",
   "execution_count": 11,
   "metadata": {},
   "outputs": [],
   "source": [
    "df_train0, df_test = python_leave_one_out_split(data, col_name=USER_COL)\n",
    "df_train, df_valid = python_leave_one_out_split(df_train0, col_name=USER_COL)\n",
    "# FIXME: Check this\n",
    "    # df_train = df_train[columns_to_keep]  \n",
    "    # df_test = df_test[columns_to_keep]  \n",
    "    # df_valid = df_valid[columns_to_keep]\n",
    "\n",
    "\n",
    "df_train.to_csv(TRAIN_PATH, index=False, sep=\"\\t\")\n",
    "df_valid.to_csv(VALID_PATH, index=False, sep=\"\\t\")\n",
    "df_test.to_csv(TEST_PATH, index=False, sep=\"\\t\")\n",
    "print(df_train.shape)\n",
    "print(df_valid.shape)\n",
    "print(df_test.shape)"
   ]
  },
  {
   "cell_type": "code",
   "execution_count": null,
   "metadata": {},
   "outputs": [],
   "source": [
    "user_history = df_train0.groupby(by=USER_COL, as_index=False).agg(list).reset_index(drop=True)\n",
    "user_history[ITEM_SEQ_COL] = user_history[ITEM_COL].apply(lambda x: \",\".join(map(str,x)))\n",
    "user_history = user_history[[USER_COL, ITEM_SEQ_COL]]\n",
    "user_history.to_csv(USER_HISTORY_PATH, index=False, sep=\"\\t\")\n",
    "user_history.head()"
   ]
  },
  {
   "cell_type": "code",
   "execution_count": null,
   "metadata": {},
   "outputs": [],
   "source": [
    "# FIXME: Check this\n",
    "# with open(os.path.join(outpath, \"map.json\"), \"w\", encoding=\"utf-8\") as jf:\n",
    "#     json.dump(map_info, jf)\n",
    "\n",
    "# with open(os.path.join(outpath, \"item2cate.json\"), \"w\", encoding=\"utf-8\") as jf:\n",
    "#     json.dump(itemid2cate, jf)"
   ]
  },
  {
   "cell_type": "code",
   "execution_count": null,
   "metadata": {},
   "outputs": [],
   "source": []
  },
  {
   "cell_type": "code",
   "execution_count": null,
   "metadata": {},
   "outputs": [],
   "source": []
  },
  {
   "cell_type": "markdown",
   "metadata": {},
   "source": [
    "## Reference\n",
    "\n",
    "\\[1\\] Wang-Cheng Kang, and Julian McAuley, *Self-Attentive Sequential Recommendation*, arXiv preprint arXiv:1808.09781, 2018. <br>\n",
    "\n",
    "\\[2\\] Ashish Vaswani, Noam Shazeer, Niki Parmar, Jakob Uszkoreit, Llion Jones, Aidan N Gomez, Łukasz Kaiser, and Illia Polosukhin, *Attention is all you need*, in Advances in Neural Information Processing Systems, 5998–6008, 2017. <br>"
   ]
  }
 ],
 "metadata": {
  "kernelspec": {
   "display_name": "recommenders",
   "language": "python",
   "name": "python3"
  },
  "language_info": {
   "codemirror_mode": {
    "name": "ipython",
    "version": 3
   },
   "file_extension": ".py",
   "mimetype": "text/x-python",
   "name": "python",
   "nbconvert_exporter": "python",
   "pygments_lexer": "ipython3",
   "version": "3.11.9"
  }
 },
 "nbformat": 4,
 "nbformat_minor": 2
}
